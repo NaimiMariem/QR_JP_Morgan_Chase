{
  "nbformat": 4,
  "nbformat_minor": 0,
  "metadata": {
    "colab": {
      "provenance": [],
      "authorship_tag": "ABX9TyN0a9c2QfUypOhcuDvzyOa6",
      "include_colab_link": true
    },
    "kernelspec": {
      "name": "python3",
      "display_name": "Python 3"
    },
    "language_info": {
      "name": "python"
    }
  },
  "cells": [
    {
      "cell_type": "markdown",
      "metadata": {
        "id": "view-in-github",
        "colab_type": "text"
      },
      "source": [
        "<a href=\"https://colab.research.google.com/github/NaimiMariem/QR_JP_Morgan_Chase/blob/main/Task_2.ipynb\" target=\"_parent\"><img src=\"https://colab.research.google.com/assets/colab-badge.svg\" alt=\"Open In Colab\"/></a>"
      ]
    },
    {
      "cell_type": "code",
      "execution_count": null,
      "metadata": {
        "id": "7oMOFhxHYTmq"
      },
      "outputs": [],
      "source": []
    },
    {
      "cell_type": "markdown",
      "source": [
        "\n",
        "\n",
        "```\n",
        "# Ce texte est au format code\n",
        "```\n",
        "\n",
        "<div>\n",
        "  <h1 style=\"font-size: 24px; font-weight: bold;\">Price a commodity staorage contract</h1>"
      ],
      "metadata": {
        "id": "EZzDDj-2Sitz"
      }
    },
    {
      "cell_type": "code",
      "source": [
        "import pandas as pd\n",
        "import numpy as np\n",
        "from matplotlib import pyplot as plt\n",
        "from datetime import date, timedelta\n"
      ],
      "metadata": {
        "id": "oqtuQtEuTL3r"
      },
      "execution_count": null,
      "outputs": []
    },
    {
      "cell_type": "markdown",
      "source": [
        "\n",
        "\n",
        "```\n",
        "# Ce texte est au format code\n",
        "```\n",
        "<p> In this task we're asked to write a functuion that prices the contract.\n",
        "The client must be able to choose the injection date, and withdrawal.\n",
        "</p>\n"
      ],
      "metadata": {
        "id": "Yh_0TgBoTRBp"
      }
    },
    {
      "cell_type": "code",
      "source": [
        "\n",
        "def price_contract(injection_dates, withdrawal_dates, prices, rate, capacity, storage_costs):\n",
        "\n",
        "    # Check that the injection and withdrawal dates are valid\n",
        "    for injection_date in injection_dates:\n",
        "        if injection_date not in prices.index:\n",
        "            raise ValueError(\"Injection date {} is not in the price data\".format(injection_date))\n",
        "    for withdrawal_date in withdrawal_dates:\n",
        "        if withdrawal_date not in prices.index:\n",
        "            raise ValueError(\"Withdrawal date {} is not in the price data\".format(withdrawal_date))\n",
        "\n",
        "    # Calculate the total gas injected\n",
        "    injected_gas = np.sum([prices[injection_date] * rate * timedelta(days=1) for injection_date in injection_dates])\n",
        "\n",
        "    # Calculate the total gas withdrawn\n",
        "    withdrawn_gas = np.sum([prices[withdrawal_date] * rate * timedelta(days=1) for withdrawal_date in withdrawal_dates])\n",
        "\n",
        "    # Calculate the storage fees\n",
        "    storage_fees = np.sum([storage_costs * timedelta(days=1) for injection_date in injection_dates])\n",
        "\n",
        "    # Calculate the value of the contract\n",
        "    value = withdrawn_gas - injected_gas - storage_fees\n",
        "\n",
        "    return value\n",
        "\n",
        "# Test the function\n",
        "if __name__ == \"__main__\":\n",
        "\n",
        "    # Load the price data\n",
        "    raw_url=\"https://raw.githubusercontent.com/NaimiMariem/QR_JP_Morgan_Chase/main/Nat_Gas.csv\"\n",
        "    Gaz_price_data = pd.read_csv(raw_url)\n",
        "    Gaz_price_data['Dates'] = pd.to_datetime(Gaz_price_data['Dates'])\n",
        "    Gaz_price_data.set_index('Dates', inplace=True)\n",
        "\n",
        "    # Set the input parameters\n",
        "    injection_dates = [pd.to_datetime(\"2021-01-01\"), pd.to_datetime(\"2021-02-01\")]\n",
        "    withdrawal_dates = [pd.to_datetime(\"2021-03-01\"), pd.to_datetime(\"2021-04-01\")]\n",
        "    rate = 1000000\n",
        "    capacity = 10000000\n",
        "    storage_costs = 1000\n",
        "\n",
        "    # Calculate the value of the contract\n",
        "    value = price_contract(injection_dates, withdrawal_dates,Gaz_price_data, rate, capacity, storage_costs)\n",
        "\n",
        "    print(\"The value of the contract is {}.\".format(value))"
      ],
      "metadata": {
        "id": "TJHTPhA-TvH6"
      },
      "execution_count": null,
      "outputs": []
    }
  ]
}